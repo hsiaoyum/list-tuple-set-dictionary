{
 "cells": [
  {
   "cell_type": "code",
   "execution_count": 7,
   "metadata": {},
   "outputs": [
    {
     "name": "stdout",
     "output_type": "stream",
     "text": [
      "Taipei Is A Nice Place\n"
     ]
    }
   ],
   "source": [
    "#字串的實體方法\n",
    "home=\"taipei is a nice place\"\n",
    "print(home.title())"
   ]
  },
  {
   "cell_type": "code",
   "execution_count": 10,
   "metadata": {},
   "outputs": [
    {
     "data": {
      "text/plain": [
       "18"
      ]
     },
     "execution_count": 10,
     "metadata": {},
     "output_type": "execute_result"
    }
   ],
   "source": [
    "len('taipeiisaniceplace')"
   ]
  },
  {
   "cell_type": "code",
   "execution_count": 17,
   "metadata": {},
   "outputs": [
    {
     "name": "stdout",
     "output_type": "stream",
     "text": [
      "hello there!\n",
      "how are you?\n",
      "I'm good, how about you?\n"
     ]
    }
   ],
   "source": [
    " #脫逸字元\n",
    "\n",
    "print('hello there!\\nhow are you?\\nI\\'m good, how about you?')\n"
   ]
  },
  {
   "cell_type": "code",
   "execution_count": 18,
   "metadata": {},
   "outputs": [
    {
     "name": "stdout",
     "output_type": "stream",
     "text": [
      "hello there!\\nhow are you?\\nI\\'m good, how about you?\n"
     ]
    }
   ],
   "source": [
    "#原始字串\n",
    "print(r'hello there!\\nhow are you?\\nI\\'m good, how about you?')\n"
   ]
  },
  {
   "cell_type": "code",
   "execution_count": 42,
   "metadata": {},
   "outputs": [
    {
     "name": "stdout",
     "output_type": "stream",
     "text": [
      "hello there, my name is hsiaoyu, it was very nice to meet you and the crew, I'm very looking forward to working with you.\n"
     ]
    }
   ],
   "source": [
    "sentence='hello there, \\\n",
    "my name is hsiaoyu, it was very nice to meet you and the crew, \\\n",
    "I\\'m very looking forward to working with you.'\n",
    "print(sentence)\n"
   ]
  },
  {
   "cell_type": "code",
   "execution_count": 39,
   "metadata": {},
   "outputs": [
    {
     "name": "stdout",
     "output_type": "stream",
     "text": [
      " \n",
      "The time a student takes to complete the Ph.D. depends on a number of factors, including previous preparation and the amount of time spent in teaching or other job commitments. Several policies set an upper limit to the length of the program. All degree requirements other than the dissertation must be completed by the end of the fourth year of graduate work. Total instructional support (TAships, etc.) cannot exceed six years; total university support cannot exceed seven years. \n",
      "Total registered time at UCSD cannot exceed eight years.\n",
      "\n",
      "The time a student takes to complete the Ph.D. depends on a number of factors, including previous preparation and the amount of time spent in teaching or other job commitments. Several policies set an upper limit to the length of the program. All degree requirements other than the dissertation must be completed by the end of the fourth year of graduate work. Total instructional support (TAships, etc.) cannot exceed six years; total university support cannot exceed seven years. \n",
      "Total registered time at UCSD cannot exceed eight years.\n",
      "\n"
     ]
    }
   ],
   "source": [
    "#多行文字\n",
    "\n",
    "sentence=''' \n",
    "The time a student takes to complete the Ph.D. depends on a number of factors, including previous preparation and the amount of time spent in teaching or other job commitments. Several policies set an upper limit to the length of the program. All degree requirements other than the dissertation must be completed by the end of the fourth year of graduate work. Total instructional support (TAships, etc.) cannot exceed six years; total university support cannot exceed seven years. \\nTotal registered time at UCSD cannot exceed eight years.\n",
    "\n",
    "The time a student takes to complete the Ph.D. depends on a number of factors, including previous preparation and the amount of time spent in teaching or other job commitments. Several policies set an upper limit to the length of the program. All degree requirements other than the dissertation must be completed by the end of the fourth year of graduate work. Total instructional support (TAships, etc.) cannot exceed six years; total university support cannot exceed seven years. \\nTotal registered time at UCSD cannot exceed eight years.\n",
    "'''\n",
    "\n",
    "print(sentence)"
   ]
  },
  {
   "cell_type": "code",
   "execution_count": 45,
   "metadata": {},
   "outputs": [
    {
     "name": "stdout",
     "output_type": "stream",
     "text": [
      "world\n"
     ]
    }
   ],
   "source": [
    "letters=\"hello world\"\n",
    "\n",
    "print(letters [-5:])\n"
   ]
  },
  {
   "cell_type": "code",
   "execution_count": 55,
   "metadata": {},
   "outputs": [
    {
     "name": "stdout",
     "output_type": "stream",
     "text": [
      "Hay\n"
     ]
    }
   ],
   "source": [
    "name='May'\n",
    "\n",
    "name=name.replace('M','H')\n",
    "\n",
    "print(name)\n"
   ]
  },
  {
   "cell_type": "code",
   "execution_count": 95,
   "metadata": {},
   "outputs": [
    {
     "name": "stdout",
     "output_type": "stream",
     "text": [
      "True\n"
     ]
    }
   ],
   "source": [
    "\n",
    "print('10age'.isalnum())"
   ]
  }
 ],
 "metadata": {
  "kernelspec": {
   "display_name": "Python 3",
   "language": "python",
   "name": "python3"
  },
  "language_info": {
   "codemirror_mode": {
    "name": "ipython",
    "version": 3
   },
   "file_extension": ".py",
   "mimetype": "text/x-python",
   "name": "python",
   "nbconvert_exporter": "python",
   "pygments_lexer": "ipython3",
   "version": "3.8.6"
  }
 },
 "nbformat": 4,
 "nbformat_minor": 2
}
