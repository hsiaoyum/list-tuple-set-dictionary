{
 "cells": [
  {
   "cell_type": "code",
   "execution_count": 1,
   "metadata": {},
   "outputs": [
    {
     "data": {
      "text/plain": [
       "{1, 2, 3, 4}"
      ]
     },
     "execution_count": 1,
     "metadata": {},
     "output_type": "execute_result"
    }
   ],
   "source": [
    "t1={1,2,3,1,2,3,4}\n",
    "\n",
    "t1"
   ]
  },
  {
   "cell_type": "code",
   "execution_count": 2,
   "metadata": {},
   "outputs": [
    {
     "data": {
      "text/plain": [
       "{'1', '2'}"
      ]
     },
     "execution_count": 2,
     "metadata": {},
     "output_type": "execute_result"
    }
   ],
   "source": [
    "t1=set('112')\n",
    "\n",
    "t1"
   ]
  },
  {
   "cell_type": "code",
   "execution_count": 13,
   "metadata": {},
   "outputs": [
    {
     "name": "stdout",
     "output_type": "stream",
     "text": [
      "自動選號：1 9 14 16 33 42 \n",
      "特別號：23\n"
     ]
    }
   ],
   "source": [
    "\n",
    "loto=set()\n",
    "import random\n",
    "\n",
    "while (len(loto)<7):\n",
    "    loto.add(random.randint(1,49))\n",
    "\n",
    "#set transfer to list\n",
    "\n",
    "list_loto=list (loto)\n",
    "\n",
    "print('自動選號：',end='')  \n",
    "#end='' 後面不換行\n",
    "\n",
    "for item in sorted(list_loto[:6]):\n",
    "    print (item, end=' ')\n",
    "\n",
    "print()\n",
    "print (f'特別號：{list_loto[-1]}')     \n",
    "\n",
    "\n",
    "\n"
   ]
  },
  {
   "cell_type": "code",
   "execution_count": 11,
   "metadata": {},
   "outputs": [
    {
     "name": "stdout",
     "output_type": "stream",
     "text": [
      "1-2-3\n",
      "1   2   3\n"
     ]
    }
   ],
   "source": [
    "print(1,2,3,sep='-')\n",
    "print(1, 2, 3,sep='   ')"
   ]
  },
  {
   "cell_type": "code",
   "execution_count": 9,
   "metadata": {},
   "outputs": [
    {
     "name": "stdout",
     "output_type": "stream",
     "text": [
      "1/1\n"
     ]
    }
   ],
   "source": [
    "print(1,end='/')\n",
    "print(1)\n"
   ]
  },
  {
   "cell_type": "code",
   "execution_count": 9,
   "metadata": {},
   "outputs": [
    {
     "name": "stdout",
     "output_type": "stream",
     "text": [
      "自動選號:13 24 28 30 48 49 \n",
      "特別號：31\n",
      "\n",
      "自動選號:4 10 18 26 40 42 \n",
      "特別號：27\n",
      "\n",
      "自動選號:6 9 14 33 36 43 \n",
      "特別號：16\n",
      "\n",
      "自動選號:5 9 13 38 40 44 \n",
      "特別號：15\n",
      "\n"
     ]
    }
   ],
   "source": [
    "#自訂function\n",
    "\n",
    "import random\n",
    "\n",
    "\n",
    "def generator_loto():\n",
    " loto=set()\n",
    " while (len(loto)<7):\n",
    "    loto.add(random.randint(1,49))\n",
    "\n",
    "#set transfer to list\n",
    "\n",
    " list_loto=list (loto)\n",
    "\n",
    " print (f'自動選號:', end='')\n",
    "#end='' 後面不換行\n",
    " for item in sorted(list_loto[:6]):\n",
    "    print (item,end=' ')\n",
    "\n",
    " print()\n",
    " print (f'特別號：{list_loto[-1]}')     \n",
    "\n",
    "\n",
    "nums=int(input('輸入電腦自動選號組數：'))\n",
    "\n",
    "for x in range(nums):\n",
    "  generator_loto()\n",
    "  print()\n",
    "\n"
   ]
  }
 ],
 "metadata": {
  "kernelspec": {
   "display_name": "Python 3",
   "language": "python",
   "name": "python3"
  },
  "language_info": {
   "codemirror_mode": {
    "name": "ipython",
    "version": 3
   },
   "file_extension": ".py",
   "mimetype": "text/x-python",
   "name": "python",
   "nbconvert_exporter": "python",
   "pygments_lexer": "ipython3",
   "version": "3.8.6"
  }
 },
 "nbformat": 4,
 "nbformat_minor": 2
}
