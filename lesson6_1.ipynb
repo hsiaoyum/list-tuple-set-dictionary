{
 "cells": [
  {
   "cell_type": "code",
   "execution_count": 3,
   "metadata": {},
   "outputs": [
    {
     "name": "stdout",
     "output_type": "stream",
     "text": [
      "1\n",
      "3\n",
      "5\n",
      "7\n"
     ]
    }
   ],
   "source": [
    "odd=[1,3,5,7]\n",
    "print(odd[0])\n",
    "print(odd[1])\n",
    "print(odd[2])\n",
    "print(odd[3])"
   ]
  },
  {
   "cell_type": "code",
   "execution_count": 4,
   "metadata": {},
   "outputs": [
    {
     "name": "stdout",
     "output_type": "stream",
     "text": [
      "1\n",
      "3\n",
      "5\n",
      "7\n"
     ]
    }
   ],
   "source": [
    "for x in range(4):\n",
    "    print(odd[x])\n",
    "\n",
    "\n"
   ]
  },
  {
   "cell_type": "code",
   "execution_count": 1,
   "metadata": {},
   "outputs": [
    {
     "name": "stdout",
     "output_type": "stream",
     "text": [
      "monday\n",
      "tuesday\n",
      "wednesday\n",
      "thursday\n",
      "friday\n",
      "saturday\n",
      "sunday\n"
     ]
    }
   ],
   "source": [
    "weekdays=['monday','tuesday','wednesday','thursday','friday','saturday','sunday']\n",
    "for item in weekdays:\n",
    "    print (item)\n"
   ]
  },
  {
   "cell_type": "code",
   "execution_count": null,
   "metadata": {},
   "outputs": [],
   "source": [
    "date_str='2023.12.19'\n",
    "type(date_str)\n",
    "\n",
    "items=date_str.split('.')\n",
    "\n",
    "for x in items:\n",
    "    print(x)\n",
    "\n",
    "print('----我是分割線----')\n",
    "\n",
    "items.reverse()\n",
    "\n",
    "for x in items:\n",
    "    print(x)\n",
    "\n"
   ]
  },
  {
   "cell_type": "code",
   "execution_count": 2,
   "metadata": {},
   "outputs": [
    {
     "data": {
      "text/plain": [
       "['raining', 'cats', 'and', 'dogs']"
      ]
     },
     "execution_count": 2,
     "metadata": {},
     "output_type": "execute_result"
    }
   ],
   "source": [
    "#建立空的list\n",
    "\n",
    "emptylist=list()\n",
    "\n",
    "emptylist.append('raining')\n",
    "emptylist.append('cats')\n",
    "emptylist.append('and')\n",
    "emptylist.append('dogs')\n",
    "\n",
    "emptylist\n",
    "\n",
    "\n"
   ]
  },
  {
   "cell_type": "code",
   "execution_count": 15,
   "metadata": {},
   "outputs": [
    {
     "name": "stdout",
     "output_type": "stream",
     "text": [
      "12\n",
      "12\n",
      "12\n"
     ]
    }
   ],
   "source": [
    "nums=list()\n",
    "\n",
    "while (True):\n",
    "    input_value=int(input('請輸入數值：'))\n",
    "    \n",
    "    if input_value == -1:\n",
    "        break\n",
    "    nums.append(input_value)\n",
    "\n",
    "    \n",
    "for record in nums:\n",
    "        print (record)\n",
    "\n",
    "    \n",
    "\n",
    "\n"
   ]
  },
  {
   "cell_type": "code",
   "execution_count": 31,
   "metadata": {},
   "outputs": [
    {
     "data": {
      "text/plain": [
       "'cat'"
      ]
     },
     "execution_count": 31,
     "metadata": {},
     "output_type": "execute_result"
    }
   ],
   "source": [
    "animal=['fish','cat','dog']\n",
    "\n",
    "import random\n",
    "\n",
    "random.choice(animal)"
   ]
  },
  {
   "cell_type": "code",
   "execution_count": 37,
   "metadata": {},
   "outputs": [
    {
     "name": "stdout",
     "output_type": "stream",
     "text": [
      "fish\n",
      "cat\n",
      "dog\n",
      "['fish', 'cat', 'dog']\n",
      "['fish', 'cat', 'dog']\n"
     ]
    }
   ],
   "source": [
    "animal=['fish','cat','dog']\n",
    "print(animal[0]) \n",
    "print(animal[1])\n",
    "print(animal[2])\n",
    "print(animal[:3])\n",
    "print(animal[-3:])"
   ]
  }
 ],
 "metadata": {
  "kernelspec": {
   "display_name": "Python 3",
   "language": "python",
   "name": "python3"
  },
  "language_info": {
   "codemirror_mode": {
    "name": "ipython",
    "version": 3
   },
   "file_extension": ".py",
   "mimetype": "text/x-python",
   "name": "python",
   "nbconvert_exporter": "python",
   "pygments_lexer": "ipython3",
   "version": "3.8.6"
  }
 },
 "nbformat": 4,
 "nbformat_minor": 2
}
