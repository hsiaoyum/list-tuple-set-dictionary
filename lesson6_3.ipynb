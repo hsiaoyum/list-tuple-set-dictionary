{
 "cells": [
  {
   "cell_type": "code",
   "execution_count": 7,
   "metadata": {},
   "outputs": [
    {
     "name": "stdout",
     "output_type": "stream",
     "text": [
      "{'cc': 'coherence and cohesion', 'gr': 'grammar', 'lr': 'lexical resource'}\n",
      "coherence and cohesion\n",
      "coherence and cohesion\n",
      "grammar\n",
      "lexical resource\n",
      "grammar\n"
     ]
    }
   ],
   "source": [
    "codes={'cc': 'coherence and cohesion','gr':'grammar','lr':'lexical resource'}\n",
    "\n",
    "print(codes)\n",
    "\n",
    "print(codes['cc'])\n",
    "\n",
    "for x in codes:\n",
    "    print (codes[x])\n",
    "\n",
    "\n",
    "print (codes['gr'])"
   ]
  },
  {
   "cell_type": "code",
   "execution_count": 10,
   "metadata": {},
   "outputs": [
    {
     "name": "stdout",
     "output_type": "stream",
     "text": [
      "{4: 'four', 5: 'five', 6: 'six'}\n",
      "four\n",
      "five\n",
      "six\n"
     ]
    }
   ],
   "source": [
    "#建立空的dictionary\n",
    "\n",
    "empty_dict={}\n",
    "\n",
    "empty_dict[4]='four'\n",
    "empty_dict[5]='five'\n",
    "empty_dict[6]='six'\n",
    "print (empty_dict)\n",
    "\n",
    "for key in empty_dict:\n",
    "    print (empty_dict[key])\n",
    "\n",
    "\n",
    "\n",
    "\n"
   ]
  }
 ],
 "metadata": {
  "kernelspec": {
   "display_name": "Python 3",
   "language": "python",
   "name": "python3"
  },
  "language_info": {
   "codemirror_mode": {
    "name": "ipython",
    "version": 3
   },
   "file_extension": ".py",
   "mimetype": "text/x-python",
   "name": "python",
   "nbconvert_exporter": "python",
   "pygments_lexer": "ipython3",
   "version": "3.8.6"
  }
 },
 "nbformat": 4,
 "nbformat_minor": 2
}
